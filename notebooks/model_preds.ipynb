{
 "cells": [
  {
   "cell_type": "markdown",
   "metadata": {},
   "source": [
    "# Ersilia Model Predictions analysis\n",
    "\n",
    "This notebook contains the results of the predictions for the Ersilia Models selected for the workshop. We are using the MMV boxes as starting points"
   ]
  },
  {
   "cell_type": "code",
   "execution_count": 1,
   "metadata": {},
   "outputs": [],
   "source": [
    "import pandas as pd\n",
    "import os\n",
    "import stylia as st\n",
    "from stylia import ONE_COLUMN_WIDTH, TWO_COLUMNS_WIDTH, NamedColorMaps, NamedColors, ContinuousColorMap\n",
    "\n",
    "DATAPATH = \"../data\""
   ]
  },
  {
   "cell_type": "code",
   "execution_count": 2,
   "metadata": {},
   "outputs": [],
   "source": [
    "# data cleaning in the open-data-cleaning repository\n",
    "# keep only one smiles column for ease of identification\n",
    "\n",
    "boxes = [\"malaria\", \"pandemic\", \"pathogen\", \"gh\"]\n",
    "for b in boxes:\n",
    "    df = pd.read_csv(os.path.join(DATAPATH, f'mmv_{b}box.csv'))\n",
    "    df = df[[\"CAN_SMILES\"]]\n",
    "    df.to_csv(os.path.join(DATAPATH, f'mmv_{b}box.csv'), index=False)"
   ]
  },
  {
   "cell_type": "markdown",
   "metadata": {},
   "source": [
    "## eos3804: A.baumannii"
   ]
  },
  {
   "cell_type": "code",
   "execution_count": null,
   "metadata": {},
   "outputs": [],
   "source": [
    "fig, axs = st.create_figure(1,4, width=(TWO_COLUMNS_WIDTH), height=3)\n",
    "\n",
    "for b in boxes:\n",
    "    df = df = pd.read_csv(os.path.join(DATAPATH, f'eos3804_mmv_{b}box.csv'))\n",
    "    ax = axs.next()\n",
    "    ax.hist(df[\"activity\"])\n",
    "    ax.set_xlabel('Probability of 1')\n",
    "    ax.set_ylabel('Number of Molecules')\n",
    "    ax.set_title('eos3804')"
   ]
  },
  {
   "cell_type": "markdown",
   "metadata": {},
   "source": [
    "## eos9ei3: SA-Score"
   ]
  },
  {
   "cell_type": "code",
   "execution_count": null,
   "metadata": {},
   "outputs": [],
   "source": [
    "fig, axs = st.create_figure(1,4, width=(TWO_COLUMNS_WIDTH), height=3)\n",
    "\n",
    "for b in boxes:\n",
    "    df = df = pd.read_csv(os.path.join(DATAPATH, f'eos9ei3_mmv_{b}box.csv'))\n",
    "    ax = axs.next()\n",
    "    ax.hist(df[\"sa_score\"])\n",
    "    ax.set_xlabel('SAScore')\n",
    "    ax.set_ylabel('Number of Molecules')\n",
    "    ax.set_title('eos9ei3')"
   ]
  },
  {
   "cell_type": "markdown",
   "metadata": {},
   "source": [
    "## eos81ew: NCATS Pampa5"
   ]
  },
  {
   "cell_type": "code",
   "execution_count": null,
   "metadata": {},
   "outputs": [],
   "source": [
    "fig, axs = st.create_figure(1,4, width=(TWO_COLUMNS_WIDTH), height=3)\n",
    "\n",
    "for b in boxes:\n",
    "    df = df = pd.read_csv(os.path.join(DATAPATH, f'eos9ei3_mmv_{b}box.csv'))\n",
    "    ax = axs.next()\n",
    "    ax.hist(df[\"pampa5_proba1\"])\n",
    "    ax.set_xlabel('Probability of 1')\n",
    "    ax.set_ylabel('Number of Molecules')\n",
    "    ax.set_title('eos81ew')"
   ]
  },
  {
   "cell_type": "markdown",
   "metadata": {},
   "source": [
    "## eos5jz9: NCATS CYP2C9"
   ]
  },
  {
   "cell_type": "code",
   "execution_count": null,
   "metadata": {},
   "outputs": [],
   "source": [
    "fig, axs = st.create_figure(1,4, width=(TWO_COLUMNS_WIDTH), height=3)\n",
    "\n",
    "for b in boxes:\n",
    "    df = df = pd.read_csv(os.path.join(DATAPATH, f'eos9ei3_mmv_{b}box.csv'))\n",
    "    ax = axs.next()\n",
    "    ax.hist(df[\"pampa5_proba1\"])\n",
    "    ax.set_xlabel('Probability of 1')\n",
    "    ax.set_ylabel('Number of Molecules')\n",
    "    ax.set_title('eos5jz9')"
   ]
  },
  {
   "cell_type": "markdown",
   "metadata": {},
   "source": [
    "## eoshbd: Passive Permeability"
   ]
  },
  {
   "cell_type": "code",
   "execution_count": null,
   "metadata": {},
   "outputs": [],
   "source": [
    "fig, axs = st.create_figure(1,4, width=(TWO_COLUMNS_WIDTH), height=3)\n",
    "\n",
    "for b in boxes:\n",
    "    df = df = pd.read_csv(os.path.join(DATAPATH, f'eos9ei3_mmv_{b}box.csv'))\n",
    "    ax = axs.next()\n",
    "    ax.hist(df[\"pampa5_proba1\"])\n",
    "    ax.set_xlabel('Permeability coefficient')\n",
    "    ax.set_ylabel('Number of Molecules')\n",
    "    ax.set_title('eos2hbd')"
   ]
  },
  {
   "cell_type": "markdown",
   "metadata": {},
   "source": []
  }
 ],
 "metadata": {
  "kernelspec": {
   "display_name": "chem",
   "language": "python",
   "name": "python3"
  },
  "language_info": {
   "codemirror_mode": {
    "name": "ipython",
    "version": 3
   },
   "file_extension": ".py",
   "mimetype": "text/x-python",
   "name": "python",
   "nbconvert_exporter": "python",
   "pygments_lexer": "ipython3",
   "version": "3.11.8"
  }
 },
 "nbformat": 4,
 "nbformat_minor": 2
}
